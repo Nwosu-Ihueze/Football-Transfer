{
  "nbformat": 4,
  "nbformat_minor": 0,
  "metadata": {
    "colab": {
      "name": "Copy of Football.ipynb",
      "provenance": [],
      "collapsed_sections": [],
      "authorship_tag": "ABX9TyN2507+xtceMuUfkNEjIG24",
      "include_colab_link": true
    },
    "kernelspec": {
      "name": "python3",
      "display_name": "Python 3"
    },
    "language_info": {
      "name": "python"
    }
  },
  "cells": [
    {
      "cell_type": "markdown",
      "metadata": {
        "id": "view-in-github",
        "colab_type": "text"
      },
      "source": [
        "<a href=\"https://colab.research.google.com/github/Nwosu-Ihueze/Football-Transfer/blob/main/Copy_of_Football.ipynb\" target=\"_parent\"><img src=\"https://colab.research.google.com/assets/colab-badge.svg\" alt=\"Open In Colab\"/></a>"
      ]
    },
    {
      "cell_type": "markdown",
      "metadata": {
        "id": "gYidZU28VVkk"
      },
      "source": [
        "# Exploratory Data Analysis of Football Transfers Between 2000 - 2008"
      ]
    },
    {
      "cell_type": "markdown",
      "metadata": {
        "id": "BwxMX3ux5cAk"
      },
      "source": [
        "In football, once the transfer window opens, clubs starts bidding, buying, loaning, borrowing or selling their players. This transfers are done to get the 'best' players or sell the 'worst' players. \n",
        "\n",
        "Transfers are pretty expensive, so in this notebook, I would be doing an exploratory data analysis that answers these questions:\n",
        "\n",
        "\n",
        "1. Which clubs are the top 10 selling clubs?\n",
        "\n",
        "2. Which clubs are the top 10 buying clubs?\n",
        "\n",
        "3. Which leagues are the top selling leagues?\n",
        "\n",
        "4. Which leagues are the top buying leagues?\n",
        "\n",
        "5. Does age determine the value of a player?\n",
        "\n",
        "6. Which position is most sought for?"
      ]
    },
    {
      "cell_type": "markdown",
      "metadata": {
        "id": "XL3BDzdTkXUX"
      },
      "source": [
        "Importing libraries"
      ]
    },
    {
      "cell_type": "code",
      "metadata": {
        "id": "Jg-C2yMZPAdx"
      },
      "source": [
        "\n",
        "import pandas as pd\n",
        "import numpy as np\n",
        "import matplotlib.pyplot as plt\n",
        "import seaborn as sns"
      ],
      "execution_count": null,
      "outputs": []
    },
    {
      "cell_type": "markdown",
      "metadata": {
        "id": "v3_UwMPnkbvM"
      },
      "source": [
        "Reading CSV file"
      ]
    },
    {
      "cell_type": "code",
      "metadata": {
        "id": "aRpclTRZPn5i"
      },
      "source": [
        "'''Write a variable that stores the file name and opens the file and reads through it.\n",
        "Using different commands, display overall and statistical information in file'''\n",
        "df = pd.read_csv(\"/content/top250-00-19.csv\") #Reading the csv file"
      ],
      "execution_count": null,
      "outputs": []
    },
    {
      "cell_type": "markdown",
      "metadata": {
        "id": "LzWR6Z6Nlnc6"
      },
      "source": [
        "Visualizing first five rows"
      ]
    },
    {
      "cell_type": "code",
      "metadata": {
        "colab": {
          "base_uri": "https://localhost:8080/",
          "height": 203
        },
        "id": "8AQHH9uXP1Hi",
        "outputId": "54c2276a-f405-431d-f3b8-bb704f5e7af1"
      },
      "source": [
        "\n",
        "df.head() #First five columns in dataframe"
      ],
      "execution_count": null,
      "outputs": [
        {
          "output_type": "execute_result",
          "data": {
            "text/html": [
              "<div>\n",
              "<style scoped>\n",
              "    .dataframe tbody tr th:only-of-type {\n",
              "        vertical-align: middle;\n",
              "    }\n",
              "\n",
              "    .dataframe tbody tr th {\n",
              "        vertical-align: top;\n",
              "    }\n",
              "\n",
              "    .dataframe thead th {\n",
              "        text-align: right;\n",
              "    }\n",
              "</style>\n",
              "<table border=\"1\" class=\"dataframe\">\n",
              "  <thead>\n",
              "    <tr style=\"text-align: right;\">\n",
              "      <th></th>\n",
              "      <th>Name</th>\n",
              "      <th>Position</th>\n",
              "      <th>Age</th>\n",
              "      <th>Team_from</th>\n",
              "      <th>League_from</th>\n",
              "      <th>Team_to</th>\n",
              "      <th>League_to</th>\n",
              "      <th>Season</th>\n",
              "      <th>Market_value</th>\n",
              "      <th>Transfer_fee</th>\n",
              "    </tr>\n",
              "  </thead>\n",
              "  <tbody>\n",
              "    <tr>\n",
              "      <th>0</th>\n",
              "      <td>Luís Figo</td>\n",
              "      <td>Right Winger</td>\n",
              "      <td>27</td>\n",
              "      <td>FC Barcelona</td>\n",
              "      <td>LaLiga</td>\n",
              "      <td>Real Madrid</td>\n",
              "      <td>LaLiga</td>\n",
              "      <td>2000-2001</td>\n",
              "      <td>NaN</td>\n",
              "      <td>60000000</td>\n",
              "    </tr>\n",
              "    <tr>\n",
              "      <th>1</th>\n",
              "      <td>Hernán Crespo</td>\n",
              "      <td>Centre-Forward</td>\n",
              "      <td>25</td>\n",
              "      <td>Parma</td>\n",
              "      <td>Serie A</td>\n",
              "      <td>Lazio</td>\n",
              "      <td>Serie A</td>\n",
              "      <td>2000-2001</td>\n",
              "      <td>NaN</td>\n",
              "      <td>56810000</td>\n",
              "    </tr>\n",
              "    <tr>\n",
              "      <th>2</th>\n",
              "      <td>Marc Overmars</td>\n",
              "      <td>Left Winger</td>\n",
              "      <td>27</td>\n",
              "      <td>Arsenal</td>\n",
              "      <td>Premier League</td>\n",
              "      <td>FC Barcelona</td>\n",
              "      <td>LaLiga</td>\n",
              "      <td>2000-2001</td>\n",
              "      <td>NaN</td>\n",
              "      <td>40000000</td>\n",
              "    </tr>\n",
              "    <tr>\n",
              "      <th>3</th>\n",
              "      <td>Gabriel Batistuta</td>\n",
              "      <td>Centre-Forward</td>\n",
              "      <td>31</td>\n",
              "      <td>Fiorentina</td>\n",
              "      <td>Serie A</td>\n",
              "      <td>AS Roma</td>\n",
              "      <td>Serie A</td>\n",
              "      <td>2000-2001</td>\n",
              "      <td>NaN</td>\n",
              "      <td>36150000</td>\n",
              "    </tr>\n",
              "    <tr>\n",
              "      <th>4</th>\n",
              "      <td>Nicolas Anelka</td>\n",
              "      <td>Centre-Forward</td>\n",
              "      <td>21</td>\n",
              "      <td>Real Madrid</td>\n",
              "      <td>LaLiga</td>\n",
              "      <td>Paris SG</td>\n",
              "      <td>Ligue 1</td>\n",
              "      <td>2000-2001</td>\n",
              "      <td>NaN</td>\n",
              "      <td>34500000</td>\n",
              "    </tr>\n",
              "  </tbody>\n",
              "</table>\n",
              "</div>"
            ],
            "text/plain": [
              "                Name        Position  ...  Market_value Transfer_fee\n",
              "0          Luís Figo    Right Winger  ...           NaN     60000000\n",
              "1      Hernán Crespo  Centre-Forward  ...           NaN     56810000\n",
              "2      Marc Overmars     Left Winger  ...           NaN     40000000\n",
              "3  Gabriel Batistuta  Centre-Forward  ...           NaN     36150000\n",
              "4     Nicolas Anelka  Centre-Forward  ...           NaN     34500000\n",
              "\n",
              "[5 rows x 10 columns]"
            ]
          },
          "metadata": {
            "tags": []
          },
          "execution_count": 16
        }
      ]
    },
    {
      "cell_type": "markdown",
      "metadata": {
        "id": "7DHmU79cUC-i"
      },
      "source": [
        "## Preprocessing"
      ]
    },
    {
      "cell_type": "markdown",
      "metadata": {
        "id": "EBoIVtuDls4b"
      },
      "source": [
        "Visualizing shape of dataset"
      ]
    },
    {
      "cell_type": "code",
      "metadata": {
        "colab": {
          "base_uri": "https://localhost:8080/"
        },
        "id": "Q-OAqPwcP4Ia",
        "outputId": "7d014319-f4dc-4e3d-90a3-eb6d4cf86ffd"
      },
      "source": [
        "\n",
        "df.shape #The number of rows and columns"
      ],
      "execution_count": null,
      "outputs": [
        {
          "output_type": "execute_result",
          "data": {
            "text/plain": [
              "(4700, 10)"
            ]
          },
          "metadata": {
            "tags": []
          },
          "execution_count": 17
        }
      ]
    },
    {
      "cell_type": "markdown",
      "metadata": {
        "id": "wx9iYFy0lwdx"
      },
      "source": [
        "Visualizing dataset general information"
      ]
    },
    {
      "cell_type": "code",
      "metadata": {
        "colab": {
          "base_uri": "https://localhost:8080/"
        },
        "id": "-tz-NbeqP-tc",
        "outputId": "b7efc155-b18e-40d7-8116-7ddeb10b439c"
      },
      "source": [
        "\n",
        "df.info()#General file information"
      ],
      "execution_count": null,
      "outputs": [
        {
          "output_type": "stream",
          "text": [
            "<class 'pandas.core.frame.DataFrame'>\n",
            "RangeIndex: 4700 entries, 0 to 4699\n",
            "Data columns (total 10 columns):\n",
            " #   Column        Non-Null Count  Dtype  \n",
            "---  ------        --------------  -----  \n",
            " 0   Name          4700 non-null   object \n",
            " 1   Position      4700 non-null   object \n",
            " 2   Age           4700 non-null   int64  \n",
            " 3   Team_from     4700 non-null   object \n",
            " 4   League_from   4700 non-null   object \n",
            " 5   Team_to       4700 non-null   object \n",
            " 6   League_to     4700 non-null   object \n",
            " 7   Season        4700 non-null   object \n",
            " 8   Market_value  3440 non-null   float64\n",
            " 9   Transfer_fee  4700 non-null   int64  \n",
            "dtypes: float64(1), int64(2), object(7)\n",
            "memory usage: 367.3+ KB\n"
          ],
          "name": "stdout"
        }
      ]
    },
    {
      "cell_type": "markdown",
      "metadata": {
        "id": "iLdRWo7Ml1FL"
      },
      "source": [
        "Checking for null values"
      ]
    },
    {
      "cell_type": "code",
      "metadata": {
        "colab": {
          "base_uri": "https://localhost:8080/"
        },
        "id": "FAs1x4trQGF0",
        "outputId": "bc3a0ade-01e9-4dd7-c612-20c47447c84f"
      },
      "source": [
        "\n",
        "df.isnull().sum()#Total sum of missing values"
      ],
      "execution_count": null,
      "outputs": [
        {
          "output_type": "execute_result",
          "data": {
            "text/plain": [
              "Name               0\n",
              "Position           0\n",
              "Age                0\n",
              "Team_from          0\n",
              "League_from        0\n",
              "Team_to            0\n",
              "League_to          0\n",
              "Season             0\n",
              "Market_value    1260\n",
              "Transfer_fee       0\n",
              "dtype: int64"
            ]
          },
          "metadata": {
            "tags": []
          },
          "execution_count": 19
        }
      ]
    },
    {
      "cell_type": "markdown",
      "metadata": {
        "id": "_tfbUE8yl5DQ"
      },
      "source": [
        "Visaulizng sataistical information"
      ]
    },
    {
      "cell_type": "code",
      "metadata": {
        "colab": {
          "base_uri": "https://localhost:8080/",
          "height": 295
        },
        "id": "BF8Quk5bQI6F",
        "outputId": "121415dd-56bc-4e57-ed6f-d14ae7e70d67"
      },
      "source": [
        "\n",
        "df.describe() #Satistical information"
      ],
      "execution_count": null,
      "outputs": [
        {
          "output_type": "execute_result",
          "data": {
            "text/html": [
              "<div>\n",
              "<style scoped>\n",
              "    .dataframe tbody tr th:only-of-type {\n",
              "        vertical-align: middle;\n",
              "    }\n",
              "\n",
              "    .dataframe tbody tr th {\n",
              "        vertical-align: top;\n",
              "    }\n",
              "\n",
              "    .dataframe thead th {\n",
              "        text-align: right;\n",
              "    }\n",
              "</style>\n",
              "<table border=\"1\" class=\"dataframe\">\n",
              "  <thead>\n",
              "    <tr style=\"text-align: right;\">\n",
              "      <th></th>\n",
              "      <th>Age</th>\n",
              "      <th>Market_value</th>\n",
              "      <th>Transfer_fee</th>\n",
              "    </tr>\n",
              "  </thead>\n",
              "  <tbody>\n",
              "    <tr>\n",
              "      <th>count</th>\n",
              "      <td>4700.000000</td>\n",
              "      <td>3.440000e+03</td>\n",
              "      <td>4.700000e+03</td>\n",
              "    </tr>\n",
              "    <tr>\n",
              "      <th>mean</th>\n",
              "      <td>24.338723</td>\n",
              "      <td>8.622469e+06</td>\n",
              "      <td>9.447586e+06</td>\n",
              "    </tr>\n",
              "    <tr>\n",
              "      <th>std</th>\n",
              "      <td>3.230809</td>\n",
              "      <td>8.795181e+06</td>\n",
              "      <td>1.043772e+07</td>\n",
              "    </tr>\n",
              "    <tr>\n",
              "      <th>min</th>\n",
              "      <td>0.000000</td>\n",
              "      <td>5.000000e+04</td>\n",
              "      <td>8.250000e+05</td>\n",
              "    </tr>\n",
              "    <tr>\n",
              "      <th>25%</th>\n",
              "      <td>22.000000</td>\n",
              "      <td>3.500000e+06</td>\n",
              "      <td>4.000000e+06</td>\n",
              "    </tr>\n",
              "    <tr>\n",
              "      <th>50%</th>\n",
              "      <td>24.000000</td>\n",
              "      <td>6.000000e+06</td>\n",
              "      <td>6.500000e+06</td>\n",
              "    </tr>\n",
              "    <tr>\n",
              "      <th>75%</th>\n",
              "      <td>27.000000</td>\n",
              "      <td>1.000000e+07</td>\n",
              "      <td>1.082000e+07</td>\n",
              "    </tr>\n",
              "    <tr>\n",
              "      <th>max</th>\n",
              "      <td>35.000000</td>\n",
              "      <td>1.200000e+08</td>\n",
              "      <td>2.220000e+08</td>\n",
              "    </tr>\n",
              "  </tbody>\n",
              "</table>\n",
              "</div>"
            ],
            "text/plain": [
              "               Age  Market_value  Transfer_fee\n",
              "count  4700.000000  3.440000e+03  4.700000e+03\n",
              "mean     24.338723  8.622469e+06  9.447586e+06\n",
              "std       3.230809  8.795181e+06  1.043772e+07\n",
              "min       0.000000  5.000000e+04  8.250000e+05\n",
              "25%      22.000000  3.500000e+06  4.000000e+06\n",
              "50%      24.000000  6.000000e+06  6.500000e+06\n",
              "75%      27.000000  1.000000e+07  1.082000e+07\n",
              "max      35.000000  1.200000e+08  2.220000e+08"
            ]
          },
          "metadata": {
            "tags": []
          },
          "execution_count": 20
        }
      ]
    },
    {
      "cell_type": "markdown",
      "metadata": {
        "id": "Mc5WfYQ7UInO"
      },
      "source": [
        "## Analysis"
      ]
    },
    {
      "cell_type": "markdown",
      "metadata": {
        "id": "0SEBjtgNl-AL"
      },
      "source": [
        "Creating variables based on the number of transfer"
      ]
    },
    {
      "cell_type": "code",
      "metadata": {
        "id": "N77OEFC2G5xV"
      },
      "source": [
        "'''Write variables and assign values to them. Write a program that visualizes the values by reading through them.\n",
        "Plot these visualizations and extract analytical information that answers each data question'''\n",
        "\n",
        "top_10_selling_clubs = pd.DataFrame(df['Team_from'].value_counts())#Top selling club counts\n",
        "top_10_selling_leagues = pd.DataFrame(df['League_from'].value_counts())#Top selling league counts\n",
        "top_10_buying_clubs = pd.DataFrame(df['Team_to'].value_counts())#Top buying club counts\n",
        "top_10_buying_leagues = pd.DataFrame(df['League_to'].value_counts())#Top buying league counts"
      ],
      "execution_count": null,
      "outputs": []
    },
    {
      "cell_type": "markdown",
      "metadata": {
        "id": "x9q8V-iWmBQ6"
      },
      "source": [
        "Visualizing top selling clubs"
      ]
    },
    {
      "cell_type": "code",
      "metadata": {
        "id": "bk4sCtMfKBet",
        "colab": {
          "base_uri": "https://localhost:8080/",
          "height": 349
        },
        "outputId": "c99818a8-5de3-4e47-96a1-687d7da2a636"
      },
      "source": [
        "#Visualization associated with top selling clubs\n",
        "plt.bar(x = top_10_selling_clubs.head(10).index , height =top_10_selling_clubs['Team_from'].head(10))#X-axis with the top ten clubs\n",
        "plt.xticks(rotation = 45)#Rotation of x-ticks\n",
        "plt.ylabel('Number of Players')#Label of y-axis\n",
        "plt.title('Top Selling Clubs')#Title of graph"
      ],
      "execution_count": null,
      "outputs": [
        {
          "output_type": "execute_result",
          "data": {
            "text/plain": [
              "Text(0.5, 1.0, 'Top Selling Clubs')"
            ]
          },
          "metadata": {
            "tags": []
          },
          "execution_count": 25
        },
        {
          "output_type": "display_data",
          "data": {
            "image/png": "[encoded data removed]",
            "text/plain": [
              "<Figure size 432x288 with 1 Axes>"
            ]
          },
          "metadata": {
            "tags": [],
            "needs_background": "light"
          }
        }
      ]
    },
    {
      "cell_type": "markdown",
      "metadata": {
        "id": "fBm4aG7VmFAZ"
      },
      "source": [
        "Visualizing top buying clubs"
      ]
    },
    {
      "cell_type": "code",
      "metadata": {
        "id": "mh9TfOLmKL7l",
        "colab": {
          "base_uri": "https://localhost:8080/",
          "height": 349
        },
        "outputId": "8a9ae619-096b-4219-944f-83392d88cc24"
      },
      "source": [
        "#Visualization associated with top buying clubs\n",
        "plt.bar(x = top_10_buying_clubs.head(10).index , height =top_10_buying_clubs['Team_to'].head(10))#X-axis with the top ten clubs\n",
        "plt.xticks(rotation = 45)#X-tick rotation\n",
        "plt.ylabel('Number of Players')#Labels for y-axis\n",
        "plt.title('Top Buying Clubs')#Graph title"
      ],
      "execution_count": null,
      "outputs": [
        {
          "output_type": "execute_result",
          "data": {
            "text/plain": [
              "Text(0.5, 1.0, 'Top Buying Clubs')"
            ]
          },
          "metadata": {
            "tags": []
          },
          "execution_count": 26
        },
        {
          "output_type": "display_data",
          "data": {
            "image/png": "[encoded data removed]",
            "text/plain": [
              "<Figure size 432x288 with 1 Axes>"
            ]
          },
          "metadata": {
            "tags": [],
            "needs_background": "light"
          }
        }
      ]
    },
    {
      "cell_type": "markdown",
      "metadata": {
        "id": "jSamKx4DPUt3"
      },
      "source": [
        "In general, FC Porto and Udinese Calcio are the top sellers, but aren't part of the top buyers.\n",
        "\n",
        "Inter seems to have a lot of shuffling going on in the team as it tops both charts."
      ]
    },
    {
      "cell_type": "markdown",
      "metadata": {
        "id": "i7l4vXj4mI6b"
      },
      "source": [
        "Top selling league"
      ]
    },
    {
      "cell_type": "code",
      "metadata": {
        "id": "ZnCttuZsKRQ0",
        "colab": {
          "base_uri": "https://localhost:8080/",
          "height": 351
        },
        "outputId": "df37028f-29df-4f07-c62e-72d7d5de7c42"
      },
      "source": [
        "#Visualization associated with top selling leagues\n",
        "plt.bar(x = top_10_selling_leagues.head(10).index , height =top_10_selling_leagues['League_from'].head(10))#X-axis with the top leagues\n",
        "plt.xticks(rotation = 45)#X-tick rotation\n",
        "plt.ylabel('Number of Players')#Labels for y-axis\n",
        "plt.title('Top Selling Leagues')#Graph title"
      ],
      "execution_count": null,
      "outputs": [
        {
          "output_type": "execute_result",
          "data": {
            "text/plain": [
              "Text(0.5, 1.0, 'Top Selling Leagues')"
            ]
          },
          "metadata": {
            "tags": []
          },
          "execution_count": 27
        },
        {
          "output_type": "display_data",
          "data": {
            "image/png": "[encoded data removed]",
            "text/plain": [
              "<Figure size 432x288 with 1 Axes>"
            ]
          },
          "metadata": {
            "tags": [],
            "needs_background": "light"
          }
        }
      ]
    },
    {
      "cell_type": "markdown",
      "metadata": {
        "id": "G7aLW911mMqt"
      },
      "source": [
        "Top buying league"
      ]
    },
    {
      "cell_type": "code",
      "metadata": {
        "id": "ss6PQvkxKVYg",
        "colab": {
          "base_uri": "https://localhost:8080/",
          "height": 351
        },
        "outputId": "bbec3c6d-cd66-420f-a002-aef324136c28"
      },
      "source": [
        "#Visualization associated with top buying leagues\n",
        "plt.bar(x = top_10_buying_leagues.head(10).index , height =top_10_buying_leagues['League_to'].head(10))#X-axis with top leagues\n",
        "plt.xticks(rotation = 45)#X-tick rotation\n",
        "plt.ylabel('Number of Players')#Label for y-axis\n",
        "plt.title('Top Buying Leagues')#Graph title"
      ],
      "execution_count": null,
      "outputs": [
        {
          "output_type": "execute_result",
          "data": {
            "text/plain": [
              "Text(0.5, 1.0, 'Top Buying Leagues')"
            ]
          },
          "metadata": {
            "tags": []
          },
          "execution_count": 28
        },
        {
          "output_type": "display_data",
          "data": {
            "image/png": "[encoded data removed]",
            "text/plain": [
              "<Figure size 432x288 with 1 Axes>"
            ]
          },
          "metadata": {
            "tags": [],
            "needs_background": "light"
          }
        }
      ]
    },
    {
      "cell_type": "markdown",
      "metadata": {
        "id": "WSU65uLyQXGV"
      },
      "source": [
        "In general, Eredivisie has more transfer out than more transfer in.\n",
        "\n",
        "There is also a growth of more homegrown players in these leagues with each passing season.\n",
        "\n",
        "The premier league has a lot of shuffling going on each season as they top the charts both in transfer out and transfer in."
      ]
    },
    {
      "cell_type": "markdown",
      "metadata": {
        "id": "qx5ObWENmQd8"
      },
      "source": [
        "Creating variables in terms of top teams and leagues in terms of transfer value."
      ]
    },
    {
      "cell_type": "code",
      "metadata": {
        "id": "7PLjZICwKa1x"
      },
      "source": [
        "'''Write a program using the variable to sort the data for each category in ascending order'''\n",
        "top_10_selling_clubs_value = df.groupby('Team_from',as_index = False)['Transfer_fee'].sum().sort_values(by = 'Transfer_fee',ascending = False)#Total groups in high selling club value\n",
        "top_10_selling_leagues_value =  df.groupby('League_from',as_index = False)['Transfer_fee'].sum().sort_values(by = 'Transfer_fee',ascending = False)#Total groups in high selling league value\n",
        "top_10_buying_clubs_value =  df.groupby('Team_to',as_index = False)['Transfer_fee'].sum().sort_values(by = 'Transfer_fee',ascending = False)#Total groups in hig buying club value\n",
        "top_10_buying_leagues_value = df.groupby('League_to',as_index = False)['Transfer_fee'].sum().sort_values(by = 'Transfer_fee',ascending = False)#Total groups in high buying league value"
      ],
      "execution_count": null,
      "outputs": []
    },
    {
      "cell_type": "markdown",
      "metadata": {
        "id": "t2-0rA-1mWDx"
      },
      "source": [
        "Top clubs with selling value"
      ]
    },
    {
      "cell_type": "code",
      "metadata": {
        "id": "gUWcReqrK5mY",
        "colab": {
          "base_uri": "https://localhost:8080/",
          "height": 349
        },
        "outputId": "a6c1949b-e7dd-4881-b3fb-81e605410fea"
      },
      "source": [
        "##Visualization associated with top selling clubs value\n",
        "plt.bar(x = top_10_selling_clubs_value['Team_from'].head(10) , height =top_10_selling_clubs_value['Transfer_fee'].head(10),color = 'red')\n",
        "plt.xticks(rotation = 45)\n",
        "plt.ylabel('Amount')\n",
        "plt.title('Top Selling Clubs Based on Money')"
      ],
      "execution_count": null,
      "outputs": [
        {
          "output_type": "execute_result",
          "data": {
            "text/plain": [
              "Text(0.5, 1.0, 'Top Selling Clubs Based on Money')"
            ]
          },
          "metadata": {
            "tags": []
          },
          "execution_count": 33
        },
        {
          "output_type": "display_data",
          "data": {
            "image/png": "[encoded data removed]",
            "text/plain": [
              "<Figure size 432x288 with 1 Axes>"
            ]
          },
          "metadata": {
            "tags": [],
            "needs_background": "light"
          }
        }
      ]
    },
    {
      "cell_type": "markdown",
      "metadata": {
        "id": "BmpIBvOxmYYZ"
      },
      "source": [
        "Top clubs in buying value"
      ]
    },
    {
      "cell_type": "code",
      "metadata": {
        "id": "2SYQNhCPLHNC",
        "colab": {
          "base_uri": "https://localhost:8080/",
          "height": 342
        },
        "outputId": "f5a133b7-a8a3-41ee-e489-70e7481e3a7e"
      },
      "source": [
        "#Visualization associated with top buying clubs value\n",
        "plt.bar(x = top_10_buying_clubs_value['Team_to'].head(10) , height =top_10_selling_clubs_value['Transfer_fee'].head(10),color = 'green')\n",
        "plt.xticks(rotation = 45)\n",
        "plt.ylabel('Amount')\n",
        "plt.title('Top Buying Clubs Based on Money')"
      ],
      "execution_count": null,
      "outputs": [
        {
          "output_type": "execute_result",
          "data": {
            "text/plain": [
              "Text(0.5, 1.0, 'Top Buying Clubs Based on Money')"
            ]
          },
          "metadata": {
            "tags": []
          },
          "execution_count": 34
        },
        {
          "output_type": "display_data",
          "data": {
            "image/png": "[encoded data removed]",
            "text/plain": [
              "<Figure size 432x288 with 1 Axes>"
            ]
          },
          "metadata": {
            "tags": [],
            "needs_background": "light"
          }
        }
      ]
    },
    {
      "cell_type": "markdown",
      "metadata": {
        "id": "U_xaILEiSgN1"
      },
      "source": [
        "Monaco sees more transfer outs as they top the league table more than the transfer ins as they are missing from top buyers.\n",
        "\n",
        "Paris SG and Spurs are clearly buying more players as they are seen building their team."
      ]
    },
    {
      "cell_type": "markdown",
      "metadata": {
        "id": "dF-kKSe4mdlm"
      },
      "source": [
        "Top leagues in selling value"
      ]
    },
    {
      "cell_type": "code",
      "metadata": {
        "id": "iP6r6U69LV9N",
        "colab": {
          "base_uri": "https://localhost:8080/",
          "height": 351
        },
        "outputId": "40e78787-794b-461f-a6df-bd02ddad9c87"
      },
      "source": [
        "#Visualization associated with top selling leagues value\n",
        "plt.bar(x = top_10_selling_leagues_value['League_from'].head(10) , height =top_10_selling_leagues_value['Transfer_fee'].head(10),color = 'red')\n",
        "plt.xticks(rotation = 45)\n",
        "plt.ylabel('Amount')\n",
        "plt.title('Top Selling Leagues Clubs Based on Money')"
      ],
      "execution_count": null,
      "outputs": [
        {
          "output_type": "execute_result",
          "data": {
            "text/plain": [
              "Text(0.5, 1.0, 'Top Selling Leagues Clubs Based on Money')"
            ]
          },
          "metadata": {
            "tags": []
          },
          "execution_count": 35
        },
        {
          "output_type": "display_data",
          "data": {
            "image/png": "[encoded data removed]",
            "text/plain": [
              "<Figure size 432x288 with 1 Axes>"
            ]
          },
          "metadata": {
            "tags": [],
            "needs_background": "light"
          }
        }
      ]
    },
    {
      "cell_type": "markdown",
      "metadata": {
        "id": "wKV-pGnHmf_U"
      },
      "source": [
        "Top leagues in buying value"
      ]
    },
    {
      "cell_type": "code",
      "metadata": {
        "id": "i55mHeJpLesG",
        "colab": {
          "base_uri": "https://localhost:8080/",
          "height": 351
        },
        "outputId": "478459ef-a5d9-4142-a3d5-32812af2964f"
      },
      "source": [
        "#Visualization associated with top buying leagues value\n",
        "plt.bar(x = top_10_buying_leagues_value['League_to'].head(10) , height =top_10_buying_leagues_value['Transfer_fee'].head(10),color = 'green')\n",
        "plt.xticks(rotation = 45)\n",
        "plt.ylabel('Amount')\n",
        "plt.title('Top Buying Leagues Clubs Based on Money')"
      ],
      "execution_count": null,
      "outputs": [
        {
          "output_type": "execute_result",
          "data": {
            "text/plain": [
              "Text(0.5, 1.0, 'Top Buying Leagues Clubs Based on Money')"
            ]
          },
          "metadata": {
            "tags": []
          },
          "execution_count": 37
        },
        {
          "output_type": "display_data",
          "data": {
            "image/png": "[encoded data removed]",
            "text/plain": [
              "<Figure size 432x288 with 1 Axes>"
            ]
          },
          "metadata": {
            "tags": [],
            "needs_background": "light"
          }
        }
      ]
    },
    {
      "cell_type": "markdown",
      "metadata": {
        "id": "qjCH987jR8aQ"
      },
      "source": [
        "The premier league is most valuable as all transfers both in and out occurs there.\n",
        "\n",
        "Serie A and LaLiga looses more than they gain."
      ]
    },
    {
      "cell_type": "code",
      "metadata": {
        "id": "5yh3r_W-Ly1J",
        "colab": {
          "base_uri": "https://localhost:8080/",
          "height": 282
        },
        "outputId": "c5543e1c-8748-4972-ff88-58b8d1767d16"
      },
      "source": [
        "'''Write a command using the variable created to visualize valuable players according to age and position played'''\n",
        "df['Age'].hist(bins = 35,color = 'green')#Age of player"
      ],
      "execution_count": null,
      "outputs": [
        {
          "output_type": "execute_result",
          "data": {
            "text/plain": [
              "<matplotlib.axes._subplots.AxesSubplot at 0x7f1e7bbf4490>"
            ]
          },
          "metadata": {
            "tags": []
          },
          "execution_count": 38
        },
        {
          "output_type": "display_data",
          "data": {
            "image/png": "[encoded data removed]",
            "text/plain": [
              "<Figure size 432x288 with 1 Axes>"
            ]
          },
          "metadata": {
            "tags": [],
            "needs_background": "light"
          }
        }
      ]
    },
    {
      "cell_type": "markdown",
      "metadata": {
        "id": "zbBVc5fdTFNL"
      },
      "source": [
        "Age is a determinant of a player's value as it is seen that those within the age range of 20 - 30 are transferred the most with its peak between 23 -24 years."
      ]
    },
    {
      "cell_type": "code",
      "metadata": {
        "id": "UHSh9fDyL6de",
        "colab": {
          "base_uri": "https://localhost:8080/",
          "height": 282
        },
        "outputId": "a6cfadb5-ce2f-400f-98d5-a43fda0bb34a"
      },
      "source": [
        "df['Position'].hist(bins = 35,color = 'green')#Position of player"
      ],
      "execution_count": null,
      "outputs": [
        {
          "output_type": "execute_result",
          "data": {
            "text/plain": [
              "<matplotlib.axes._subplots.AxesSubplot at 0x7f1e7bb0d950>"
            ]
          },
          "metadata": {
            "tags": []
          },
          "execution_count": 41
        },
        {
          "output_type": "display_data",
          "data": {
            "image/png": "[encoded data removed]",
            "text/plain": [
              "<Figure size 432x288 with 1 Axes>"
            ]
          },
          "metadata": {
            "tags": [],
            "needs_background": "light"
          }
        }
      ]
    },
    {
      "cell_type": "markdown",
      "metadata": {
        "id": "PojiTV6uTzFB"
      },
      "source": [
        "Center forward is the most sought for position in transfers."
      ]
    }
  ]
}